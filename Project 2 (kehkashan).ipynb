{
 "cells": [
  {
   "cell_type": "markdown",
   "metadata": {},
   "source": [
    "1. Building the TF-IDF matrix.\n",
    "Following the steps in Project 1, transform the documents into TF-IDF vectors.\n",
    "Use min_df = 3, exclude the stopwords (no need to do stemming or lemmatization).\n",
    "QUESTION 1: Report the dimensions of the TF-IDF matrix you get."
   ]
  },
  {
   "cell_type": "code",
   "execution_count": 1,
   "metadata": {},
   "outputs": [],
   "source": [
    "from sklearn.datasets import fetch_20newsgroups\n",
    "import numpy as np\n",
    "np.random.seed(42)\n",
    "\n",
    "categories = ['comp.graphics', 'comp.os.ms-windows.misc',\n",
    "              'comp.sys.ibm.pc.hardware', 'comp.sys.mac.hardware',\n",
    "              'rec.autos', 'rec.motorcycles',\n",
    "              'rec.sport.baseball', 'rec.sport.hockey']\n",
    "dataset = fetch_20newsgroups(subset='all', categories=categories, shuffle=True, random_state=42)"
   ]
  },
  {
   "cell_type": "code",
   "execution_count": 2,
   "metadata": {},
   "outputs": [
    {
     "name": "stdout",
     "output_type": "stream",
     "text": [
      "(7882, 23135)\n"
     ]
    }
   ],
   "source": [
    "import re\n",
    "from sklearn.feature_extraction.text import TfidfVectorizer\n",
    "# separate all data into two classes\n",
    "labels = [1]*len(dataset.data)\n",
    "for i in range(len(dataset.data)):\n",
    "    if dataset.target[i] > 3:\n",
    "        labels[i] = 0\n",
    "\n",
    "# process data\n",
    "def trim_data(data_list):\n",
    "    for i in range(len(data_list)):\n",
    "        temp = re.findall('[a-zA-Z]+', data_list[i])\n",
    "        ans = []\n",
    "        for j in range(len(temp)):\n",
    "            if not temp[j].isdigit():\n",
    "                ans.append(temp[j])           \n",
    "        data_list[i] = \" \".join(ans)\n",
    "        \n",
    "trim_data(dataset.data)\n",
    "\n",
    "# generate TF-IDF matrix\n",
    "vectorizer = TfidfVectorizer(min_df=3, stop_words='english', use_idf=True)\n",
    "X = vectorizer.fit_transform(dataset.data)\n",
    "print(X.shape)"
   ]
  },
  {
   "cell_type": "markdown",
   "metadata": {},
   "source": [
    "2. Apply K-means clustering with k = 2 using the TF-IDF data. Note that the KMeans class in sklearn has parameters named random_state, max_iter and n_init. Please use random_state=0, max_iter > 1000 and n_init > 30. Compare the clustering results with the known class labels. (you can refer to sklearn - Clustering text documents using k-means for a basic work flow)\n",
    "\n",
    "\n",
    "(a) Given the clustering result and ground truth labels, contingency table A is the matrix whose entries Aij is the number of data points that belong to both the class Ci the cluster Kj .\n",
    "\n",
    "QUESTION 2: Report the contingency table of your clustering result."
   ]
  },
  {
   "cell_type": "code",
   "execution_count": 3,
   "metadata": {},
   "outputs": [],
   "source": [
    "import matplotlib.pyplot as plt\n",
    "def plot_contingency_table(cm, title, actual_class_names, cluster_class_names):\n",
    "    plt.imshow(cm, interpolation='nearest', cmap='GnBu')\n",
    "    plt.title(title, fontsize=16)\n",
    "    plt.colorbar()\n",
    "    tick_marks = np.arange(len(actual_class_names))\n",
    "    plt.xticks(tick_marks, actual_class_names)\n",
    "    plt.yticks(tick_marks, cluster_class_names)\n",
    "    \n",
    "    plt.ylabel('Cluster Class', fontsize=12)\n",
    "    plt.xlabel('Actual Class', fontsize=12)\n",
    "    \n",
    "    width, height = cm.shape\n",
    "    for x in range(width):\n",
    "        for y in range(height):\n",
    "            plt.annotate(str(cm[x][y]), xy=(y, x), \n",
    "                        horizontalalignment='center',\n",
    "                        verticalalignment='center')\n",
    "    plt.savefig(title+'.png')\n"
   ]
  },
  {
   "cell_type": "code",
   "execution_count": 4,
   "metadata": {},
   "outputs": [
    {
     "data": {
      "text/plain": [
       "KMeans(algorithm='auto', copy_x=True, init='k-means++', max_iter=1000,\n",
       "    n_clusters=2, n_init=30, n_jobs=1, precompute_distances='auto',\n",
       "    random_state=0, tol=0.0001, verbose=0)"
      ]
     },
     "execution_count": 4,
     "metadata": {},
     "output_type": "execute_result"
    }
   ],
   "source": [
    "from sklearn.cluster import KMeans\n",
    "from sklearn import metrics\n",
    "from sklearn.metrics import confusion_matrix\n",
    "import itertools\n",
    "import numpy as np\n",
    "import matplotlib.pyplot as plt\n",
    "from sklearn.metrics.cluster import contingency_matrix\n",
    "\n",
    "# K-Means Clustering\n",
    "km = KMeans(n_clusters=2, n_init=30, max_iter=1000, random_state=0)\n",
    "km.fit(X)"
   ]
  },
  {
   "cell_type": "code",
   "execution_count": 5,
   "metadata": {},
   "outputs": [
    {
     "name": "stdout",
     "output_type": "stream",
     "text": [
      "contingency table:\n"
     ]
    },
    {
     "data": {
      "image/png": "[encoded data removed]",
      "text/plain": [
       "<Figure size 432x288 with 2 Axes>"
      ]
     },
     "metadata": {
      "needs_background": "light"
     },
     "output_type": "display_data"
    },
    {
     "name": "stdout",
     "output_type": "stream",
     "text": [
      "()\n"
     ]
    }
   ],
   "source": [
    "# Print results\n",
    "contingency = contingency_matrix(labels, km.labels_)\n",
    "\n",
    "print('contingency table:')\n",
    "plt.figure()\n",
    "title = 'Contingency Table'\n",
    "plot_contingency_table(contingency, title, [\"Class1\", \"Class2\"], ['Cluster1', 'Cluster2'])\n",
    "plt.show()\n",
    "print()"
   ]
  },
  {
   "cell_type": "markdown",
   "metadata": {},
   "source": [
    "b)In order to evaluate clustering results, there are various measures for a given partition of the data points with respect to the ground truth. We will use the measures homogeneity score, completeness score, V-measure, adjusted Rand score and adjusted mutual info score, all of which can be calculated by the corresponding functions provided in\n",
    "sklearn.metrics\n",
    "\n",
    "QUESTION 3:\n",
    "Report the 5 measures above for the K-means clustering results you get."
   ]
  },
  {
   "cell_type": "code",
   "execution_count": 6,
   "metadata": {
    "scrolled": true
   },
   "outputs": [
    {
     "name": "stdout",
     "output_type": "stream",
     "text": [
      "('Homogeneity:', 0.2480861826246507)\n",
      "('Completeness:', 0.3313589810284791)\n",
      "('V-measure:', 0.28373896215987654)\n",
      "('Adjusted Rand Score:', 0.17328640818785399)\n",
      "('Adjusted Mutual Info Score:', 0.24801733618150645)\n"
     ]
    }
   ],
   "source": [
    "print('Homogeneity:', metrics.homogeneity_score(labels, km.labels_))\n",
    "print('Completeness:', metrics.completeness_score(labels, km.labels_)) \n",
    "print('V-measure:', metrics.v_measure_score(labels, km.labels_)) \n",
    "print('Adjusted Rand Score:', metrics.adjusted_rand_score(labels, km.labels_)) \n",
    "print('Adjusted Mutual Info Score:', metrics.adjusted_mutual_info_score(labels, km.labels_)) "
   ]
  },
  {
   "cell_type": "code",
   "execution_count": 7,
   "metadata": {},
   "outputs": [],
   "source": [
    "from sklearn.decomposition import TruncatedSVD\n",
    "\n",
    "svd = TruncatedSVD(n_components=1000)\n",
    "X_svd = svd.fit_transform(X)\n",
    "\n",
    "V = svd.components_"
   ]
  },
  {
   "cell_type": "markdown",
   "metadata": {},
   "source": [
    "QUESTION 4: Report the plot of the percent of variance the top r principle compo- nents can retain v.s. r, for r = 1 to 1000."
   ]
  },
  {
   "cell_type": "code",
   "execution_count": 8,
   "metadata": {},
   "outputs": [
    {
     "data": {
      "text/plain": [
       "[<matplotlib.lines.Line2D at 0x1a1e997290>]"
      ]
     },
     "execution_count": 8,
     "metadata": {},
     "output_type": "execute_result"
    },
    {
     "data": {
      "image/png": "[encoded data removed]",
      "text/plain": [
       "<Figure size 432x288 with 1 Axes>"
      ]
     },
     "metadata": {
      "needs_background": "light"
     },
     "output_type": "display_data"
    }
   ],
   "source": [
    "import matplotlib.pyplot as plt\n",
    "\n",
    "plt.plot(range(1,1001), svd.explained_variance_.cumsum())  "
   ]
  },
  {
   "cell_type": "markdown",
   "metadata": {},
   "source": [
    "QUESTION 5:\n",
    "Let r be the dimension that we want to reduce the data to (i.e. n_components).\n",
    "Try r = 1,2,3,5,10,20,50,100,300, and plot the 5 measure scores v.s. r for both\n",
    "SVD and NMF.\n",
    "Report the best r choice for SVD and NMF respectively."
   ]
  },
  {
   "cell_type": "code",
   "execution_count": 14,
   "metadata": {},
   "outputs": [
    {
     "name": "stdout",
     "output_type": "stream",
     "text": [
      "('Homogeneity:', 0.0003334746809434936)\n",
      "('Completeness:', 0.00033770579251001155)\n",
      "('V-measure:', 0.0003355769002950503)\n",
      "('Adjusted Rand Score:', 0.0003837594961438892)\n",
      "('Adjusted Mutual Info Score:', 0.00024195452056117046)\n"
     ]
    }
   ],
   "source": [
    "from sklearn.decomposition import TruncatedSVD\n",
    "\n",
    "component_size = 1\n",
    "\n",
    "svd = TruncatedSVD(n_components=component_size)\n",
    "X1_svd = svd.fit_transform(X)\n",
    "\n",
    "km1 = KMeans(n_clusters=2, n_init=30, max_iter=1000, random_state=0)\n",
    "km1.fit(X1_svd)\n",
    "\n",
    "print('Homogeneity:', metrics.homogeneity_score(labels, km1.labels_))\n",
    "print('Completeness:', metrics.completeness_score(labels, km1.labels_)) \n",
    "print('V-measure:', metrics.v_measure_score(labels, km1.labels_)) \n",
    "print('Adjusted Rand Score:', metrics.adjusted_rand_score(labels, km1.labels_)) \n",
    "print('Adjusted Mutual Info Score:', metrics.adjusted_mutual_info_score(labels, km1.labels_)) "
   ]
  },
  {
   "cell_type": "code",
   "execution_count": 22,
   "metadata": {},
   "outputs": [],
   "source": [
    "from sklearn.decomposition import TruncatedSVD\n",
    "\n",
    "def get_svd_kmeans(component_size):\n",
    "    svd = TruncatedSVD(n_components=component_size)\n",
    "    Xn_svd = svd.fit_transform(X)\n",
    "    km = KMeans(n_clusters=2, n_init=30, max_iter=1000, random_state=0)\n",
    "    km.fit(Xn_svd)\n",
    "    return km\n",
    "\n",
    "def get_homogeneity_score(component_size):\n",
    "    svd = TruncatedSVD(n_components=component_size)\n",
    "    Xn_svd = svd.fit_transform(X)\n",
    "    km = KMeans(n_clusters=2, n_init=30, max_iter=1000, random_state=0)\n",
    "    km.fit(Xn_svd)\n",
    "    return metrics.homogeneity_score(labels, km.labels_)\n",
    "\n",
    "def get_completeness(component_size):\n",
    "    svd = TruncatedSVD(n_components=component_size)\n",
    "    Xn_svd = svd.fit_transform(X)\n",
    "    km = KMeans(n_clusters=2, n_init=30, max_iter=1000, random_state=0)\n",
    "    km.fit(Xn_svd)\n",
    "    return metrics.completeness_score(labels, km.labels_)\n",
    "\n",
    "def get_vmeasure(component_size):\n",
    "    svd = TruncatedSVD(n_components=component_size)\n",
    "    Xn_svd = svd.fit_transform(X)\n",
    "    km = KMeans(n_clusters=2, n_init=30, max_iter=1000, random_state=0)\n",
    "    km.fit(Xn_svd)\n",
    "    return metrics.v_measure_score(labels, km.labels_)\n",
    "\n",
    "def get_adjusted_rand_score(component_size):\n",
    "    svd = TruncatedSVD(n_components=component_size)\n",
    "    Xn_svd = svd.fit_transform(X)\n",
    "    km = KMeans(n_clusters=2, n_init=30, max_iter=1000, random_state=0)\n",
    "    km.fit(Xn_svd)\n",
    "    return metrics.adjusted_rand_score(labels, km.labels_)\n",
    "\n",
    "def get_adjusted_mutual_info_score(component_size):\n",
    "    svd = TruncatedSVD(n_components=component_size)\n",
    "    Xn_svd = svd.fit_transform(X)\n",
    "    km = KMeans(n_clusters=2, n_init=30, max_iter=1000, random_state=0)\n",
    "    km.fit(Xn_svd)\n",
    "    return metrics.adjusted_mutual_info_score(labels, km.labels_)    "
   ]
  },
  {
   "cell_type": "code",
   "execution_count": 28,
   "metadata": {},
   "outputs": [],
   "source": [
    "x = [1,2,3,5,10,20,50,100,300]\n",
    "y_kmeans = [get_nmf_kmeans(i) for i in x]"
   ]
  },
  {
   "cell_type": "code",
   "execution_count": 29,
   "metadata": {},
   "outputs": [],
   "source": [
    "# y_homogeneity = [get_homogeneity_score(i) for i in x]\n",
    "y_homogeneity = [metrics.homogeneity_score(labels, km.labels_) for km in y_kmeans]\n",
    "print(zip(x,y_homogeneity))"
   ]
  },
  {
   "cell_type": "code",
   "execution_count": 31,
   "metadata": {},
   "outputs": [],
   "source": [
    "# y_completeness = [get_completeness(i) for i in x]\n",
    "y_completeness = [metrics.completeness_score(labels, km.labels_) for km in y_kmeans]\n",
    "print(zip(x,y_completeness))"
   ]
  },
  {
   "cell_type": "code",
   "execution_count": 32,
   "metadata": {},
   "outputs": [],
   "source": [
    "# y_adjusted_rand = [get_adjusted_rand_score(i) for i in x]\n",
    "y_vmeasure = [metrics.v_measure_score(labels, km.labels_) for km in y_kmeans]\n",
    "print(zip(x,y_vmeasure))"
   ]
  },
  {
   "cell_type": "code",
   "execution_count": 33,
   "metadata": {},
   "outputs": [],
   "source": [
    "# y_vmeasure = [get_vmeasure(i) for i in x]\n",
    "y_adjusted_rand = [metrics.adjusted_rand_score(labels, km.labels_) for km in y_kmeans]\n",
    "print(zip(x,y_adjusted_rand))"
   ]
  },
  {
   "cell_type": "code",
   "execution_count": 34,
   "metadata": {},
   "outputs": [],
   "source": [
    "# y_adjusted_mutual_info_score = [get_adjusted_mutual_info_score(i) for i in x]\n",
    "y_adjusted_mutual_info_score = [metrics.adjusted_mutual_info_score(labels,km.labels_) for km in y_kmeans]\n",
    "print(zip(x,y_adjusted_mutual_info_score))"
   ]
  },
  {
   "cell_type": "code",
   "execution_count": 35,
   "metadata": {},
   "outputs": [
    {
     "data": {
      "text/plain": [
       "[<matplotlib.lines.Line2D at 0x1a20a86e50>]"
      ]
     },
     "execution_count": 35,
     "metadata": {},
     "output_type": "execute_result"
    },
    {
     "data": {
      "image/png": "[encoded data removed]",
      "text/plain": [
       "<Figure size 432x288 with 1 Axes>"
      ]
     },
     "metadata": {
      "needs_background": "light"
     },
     "output_type": "display_data"
    }
   ],
   "source": [
    "plt.plot(x,y_homogeneity)\n",
    "plt.plot(x,y_completeness)\n",
    "plt.plot(x,y_adjusted_rand)\n",
    "plt.plot(x,y_vmeasure)\n",
    "plt.plot(x,y_adjusted_mutual_info_score)"
   ]
  },
  {
   "cell_type": "code",
   "execution_count": 56,
   "metadata": {},
   "outputs": [],
   "source": [
    "from sklearn.decomposition import NMF\n",
    "\n",
    "def get_nmf_kmeans(component_size):\n",
    "    model = NMF(n_components=component_size, init='random', random_state=0)\n",
    "    W_train = model.fit_transform(X)\n",
    "    km = KMeans(n_clusters=2, n_init=30, max_iter=1000, random_state=0)\n",
    "    km.fit(W_train)\n",
    "    return km"
   ]
  },
  {
   "cell_type": "code",
   "execution_count": 51,
   "metadata": {},
   "outputs": [],
   "source": [
    "x = [1,2,3,5,10,20,50,100,300]\n",
    "y_kmeans = [get_nmf_kmeans(i) for i in x]"
   ]
  },
  {
   "cell_type": "code",
   "execution_count": 57,
   "metadata": {},
   "outputs": [],
   "source": [
    "y_homogeneity = [metrics.homogeneity_score(labels, km.labels_) for km in y_kmeans]\n",
    "print(zip(x,y_homogeneity))"
   ]
  },
  {
   "cell_type": "code",
   "execution_count": 58,
   "metadata": {},
   "outputs": [],
   "source": [
    "y_completeness = [metrics.completeness_score(labels, km.labels_) for km in y_kmeans]\n",
    "print(zip(x,y_completeness))"
   ]
  },
  {
   "cell_type": "code",
   "execution_count": 59,
   "metadata": {},
   "outputs": [],
   "source": [
    "y_vmeasure = [metrics.v_measure_score(labels, km.labels_) for km in y_kmeans]\n",
    "print(zip(x,y_vmeasure))"
   ]
  },
  {
   "cell_type": "code",
   "execution_count": 60,
   "metadata": {},
   "outputs": [],
   "source": [
    "y_adjusted_rand = [metrics.adjusted_rand_score(labels, km.labels_) for km in y_kmeans]\n",
    "print(zip(x,y_adjusted_rand))"
   ]
  },
  {
   "cell_type": "code",
   "execution_count": 61,
   "metadata": {},
   "outputs": [],
   "source": [
    "y_adjusted_mutual_info_score = [metrics.adjusted_mutual_info_score(labels,km.labels_) for km in y_kmeans]\n",
    "print(zip(x,y_adjusted_mutual_info_score))"
   ]
  },
  {
   "cell_type": "code",
   "execution_count": 62,
   "metadata": {},
   "outputs": [
    {
     "data": {
      "text/plain": [
       "[<matplotlib.lines.Line2D at 0x1a20c5bad0>]"
      ]
     },
     "execution_count": 62,
     "metadata": {},
     "output_type": "execute_result"
    },
    {
     "data": {
      "image/png": "[encoded data removed]",
      "text/plain": [
       "<Figure size 432x288 with 1 Axes>"
      ]
     },
     "metadata": {
      "needs_background": "light"
     },
     "output_type": "display_data"
    }
   ],
   "source": [
    "plt.plot(x,y_homogeneity)\n",
    "plt.plot(x,y_completeness)\n",
    "plt.plot(x,y_adjusted_rand)\n",
    "plt.plot(x,y_vmeasure)\n",
    "plt.plot(x,y_adjusted_mutual_info_score)"
   ]
  },
  {
   "cell_type": "markdown",
   "metadata": {},
   "source": [
    "QUESTION 11: Repeat the following for 20 categories using the same parameters as in 2-class case:\n",
    "• Transform corpus to TF-IDF matrix;\n",
    "• Directly perform K-means and report the 5 measures and the contingency matrix;"
   ]
  },
  {
   "cell_type": "code",
   "execution_count": 1,
   "metadata": {},
   "outputs": [],
   "source": [
    "from sklearn.datasets import fetch_20newsgroups\n",
    "import numpy as np\n",
    "np.random.seed(42)\n",
    "\n",
    "new_dataset = fetch_20newsgroups(subset='all', categories=None, shuffle=True, random_state=42)"
   ]
  },
  {
   "cell_type": "code",
   "execution_count": 6,
   "metadata": {},
   "outputs": [
    {
     "name": "stdout",
     "output_type": "stream",
     "text": [
      "(18846, 44866)\n"
     ]
    }
   ],
   "source": [
    "## Taken from top\n",
    "\n",
    "import re\n",
    "from sklearn.feature_extraction.text import TfidfVectorizer\n",
    "\n",
    "new_labels = [1]*len(new_dataset.data)\n",
    "for i in range(len(new_dataset.data)):\n",
    "    new_labels[i] = new_dataset.target[i]\n",
    "        \n",
    "# process data\n",
    "def trim_data(data_list):\n",
    "    for i in range(len(data_list)):\n",
    "        temp = re.findall('[a-zA-Z]+', data_list[i])\n",
    "        ans = []\n",
    "        for j in range(len(temp)):\n",
    "            if not temp[j].isdigit():\n",
    "                ans.append(temp[j])           \n",
    "        data_list[i] = \" \".join(ans)\n",
    "        \n",
    "trim_data(new_dataset.data)\n",
    "\n",
    "# generate TF-IDF matrix\n",
    "vectorizer = TfidfVectorizer(min_df=3, stop_words='english', use_idf=True)\n",
    "new_X = vectorizer.fit_transform(new_dataset.data)\n",
    "print(new_X.shape)"
   ]
  },
  {
   "cell_type": "code",
   "execution_count": 7,
   "metadata": {},
   "outputs": [
    {
     "data": {
      "text/plain": [
       "KMeans(algorithm='auto', copy_x=True, init='k-means++', max_iter=1000,\n",
       "    n_clusters=20, n_init=30, n_jobs=None, precompute_distances='auto',\n",
       "    random_state=0, tol=0.0001, verbose=0)"
      ]
     },
     "execution_count": 7,
     "metadata": {},
     "output_type": "execute_result"
    }
   ],
   "source": [
    "from sklearn.cluster import KMeans\n",
    "from sklearn import metrics\n",
    "from sklearn.metrics import confusion_matrix\n",
    "import itertools\n",
    "import numpy as np\n",
    "import matplotlib.pyplot as plt\n",
    "from sklearn.metrics.cluster import contingency_matrix\n",
    "\n",
    "# K-Means Clustering\n",
    "new_km = KMeans(n_clusters=20, n_init=30, max_iter=1000, random_state=0)\n",
    "new_km.fit(new_X)"
   ]
  },
  {
   "cell_type": "code",
   "execution_count": 10,
   "metadata": {},
   "outputs": [],
   "source": [
    "save_object(new_km, \"20_categories_default_km\")"
   ]
  },
  {
   "cell_type": "code",
   "execution_count": 11,
   "metadata": {},
   "outputs": [
    {
     "name": "stdout",
     "output_type": "stream",
     "text": [
      "Homogeneity: 0.2980699220694136\n",
      "Completeness: 0.381900007248544\n",
      "V-measure: 0.3348174690991464\n",
      "Adjusted Rand Score: 0.09451956671612147\n",
      "Adjusted Mutual Info Score: 0.2957831567082612\n"
     ]
    },
    {
     "name": "stderr",
     "output_type": "stream",
     "text": [
      "/Users/rishabketandoshi/anaconda2/envs/python3/lib/python3.6/site-packages/sklearn/metrics/cluster/supervised.py:732: FutureWarning: The behavior of AMI will change in version 0.22. To match the behavior of 'v_measure_score', AMI will use average_method='arithmetic' by default.\n",
      "  FutureWarning)\n"
     ]
    }
   ],
   "source": [
    "print('Homogeneity:', metrics.homogeneity_score(new_labels, new_km.labels_))\n",
    "print('Completeness:', metrics.completeness_score(new_labels, new_km.labels_)) \n",
    "print('V-measure:', metrics.v_measure_score(new_labels, new_km.labels_)) \n",
    "print('Adjusted Rand Score:', metrics.adjusted_rand_score(new_labels, new_km.labels_)) \n",
    "print('Adjusted Mutual Info Score:', metrics.adjusted_mutual_info_score(new_labels, new_km.labels_)) "
   ]
  },
  {
   "cell_type": "code",
   "execution_count": null,
   "metadata": {},
   "outputs": [],
   "source": [
    "new_contingency = contingency_matrix(labels, km.labels_)\n",
    "\n",
    "actual_class_names = [\"Class{}\".format(i) for i in range(1,21)]\n",
    "actual_cluster_names = [\"Cluster{}\".format(i) for i in range(1,21)]\n",
    "\n",
    "print('contingency table:')\n",
    "plt.figure()\n",
    "title = 'Contingency Table-20 Categories'\n",
    "plot_contingency_table(new_contingency, title, actual_class_names, actual_cluster_names)\n",
    "plt.show()\n",
    "print()"
   ]
  },
  {
   "cell_type": "markdown",
   "metadata": {},
   "source": [
    "QUESTION 12: Try different dimensions for both truncated SVD and NMF dimensionality reduction techniques and the different transformations of the obtained feature vectors as outlined in above parts.\n",
    "\n",
    "You don’t need to report everything you tried, which will be tediously long. You are asked, however, to report your best combination, and quantitatively report how much better it is compared to other combinations. You should also include typical combinations showing what choices are desirable (or undesirable)."
   ]
  },
  {
   "cell_type": "code",
   "execution_count": null,
   "metadata": {},
   "outputs": [],
   "source": [
    "def get_new_svd_kmeans(component_size):\n",
    "    svd = TruncatedSVD(n_components=component_size)\n",
    "    Xn_svd = svd.fit_transform(X)\n",
    "    km = KMeans(n_clusters=20, n_init=30, max_iter=1000, random_state=0)\n",
    "    km.fit(Xn_svd)\n",
    "    return km\n",
    "\n",
    "def get_new_nmf_kmeans(component_size):\n",
    "    model = NMF(n_components=component_size, init='random', random_state=0)\n",
    "    W_train = model.fit_transform(X)\n",
    "    km = KMeans(n_clusters=2, n_init=30, max_iter=1000, random_state=0)\n",
    "    km.fit(W_train)\n",
    "    return km"
   ]
  },
  {
   "cell_type": "code",
   "execution_count": null,
   "metadata": {},
   "outputs": [],
   "source": [
    "# Truncated SVD:\n",
    "x = [1,2,3,5,10,20,50,100,300]\n",
    "y_kmeans = [get_new_nmf_kmeans(i) for i in x]"
   ]
  },
  {
   "cell_type": "code",
   "execution_count": 9,
   "metadata": {},
   "outputs": [],
   "source": [
    "import pickle\n",
    "\n",
    "def save_object(data,fileName):\n",
    "    with open(fileName+\".pickle\", 'wb') as f:\n",
    "        pickle.dump(data, f, pickle.HIGHEST_PROTOCOL)\n",
    "        \n",
    "def load_object(fileName):\n",
    "    with open(fileName+'.pickle', 'rb') as f:\n",
    "        data = pickle.load(f)\n",
    "        return data"
   ]
  },
  {
   "cell_type": "code",
   "execution_count": null,
   "metadata": {},
   "outputs": [],
   "source": []
  }
 ],
 "metadata": {
  "kernelspec": {
   "display_name": "Python 3",
   "language": "python",
   "name": "python3"
  },
  "language_info": {
   "codemirror_mode": {
    "name": "ipython",
    "version": 3
   },
   "file_extension": ".py",
   "mimetype": "text/x-python",
   "name": "python",
   "nbconvert_exporter": "python",
   "pygments_lexer": "ipython3",
   "version": "3.6.0"
  }
 },
 "nbformat": 4,
 "nbformat_minor": 2
}
