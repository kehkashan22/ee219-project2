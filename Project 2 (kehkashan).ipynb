{
 "cells": [
  {
   "cell_type": "markdown",
   "metadata": {},
   "source": [
    "1. Building the TF-IDF matrix.\n",
    "Following the steps in Project 1, transform the documents into TF-IDF vectors.\n",
    "Use min_df = 3, exclude the stopwords (no need to do stemming or lemmatization).\n",
    "QUESTION 1: Report the dimensions of the TF-IDF matrix you get."
   ]
  },
  {
   "cell_type": "code",
   "execution_count": 3,
   "metadata": {},
   "outputs": [],
   "source": [
    "from sklearn.datasets import fetch_20newsgroups\n",
    "import numpy as np\n",
    "np.random.seed(42)\n",
    "\n",
    "categories = ['comp.graphics', 'comp.os.ms-windows.misc',\n",
    "              'comp.sys.ibm.pc.hardware', 'comp.sys.mac.hardware',\n",
    "              'rec.autos', 'rec.motorcycles',\n",
    "              'rec.sport.baseball', 'rec.sport.hockey']\n",
    "dataset = fetch_20newsgroups(subset='all', categories=categories,\n",
    "shuffle=True, random_state=42)"
   ]
  },
  {
   "cell_type": "code",
   "execution_count": 7,
   "metadata": {},
   "outputs": [
    {
     "name": "stdout",
     "output_type": "stream",
     "text": [
      "(7882, 23135)\n"
     ]
    }
   ],
   "source": [
    "import re\n",
    "from sklearn.feature_extraction.text import TfidfVectorizer\n",
    "# seperate all data into two classes\n",
    "labels = [1]*len(dataset.data)\n",
    "for i in range(len(dataset.data)):\n",
    "    if dataset.target[i] > 3:\n",
    "        labels[i] = 0\n",
    "\n",
    "# process data\n",
    "def trim_data(data_list):\n",
    "    for i in range(len(data_list)):\n",
    "        temp = re.findall('[a-zA-Z]+', data_list[i])\n",
    "        ans = []\n",
    "        for j in range(len(temp)):\n",
    "            if not temp[j].isdigit():\n",
    "                ans.append(temp[j])           \n",
    "        data_list[i] = \" \".join(ans)\n",
    "        \n",
    "trim_data(dataset.data)\n",
    "\n",
    "# generate TF-IDF matrix\n",
    "vectorizer = TfidfVectorizer(min_df=3, stop_words='english', use_idf=True)\n",
    "X = vectorizer.fit_transform(dataset.data)\n",
    "print(X.shape)"
   ]
  },
  {
   "cell_type": "markdown",
   "metadata": {},
   "source": [
    "2. Apply K-means clustering with k = 2 using the TF-IDF data. Note that the KMeans class in sklearn has parameters named random_state, max_iter and n_init. Please use random_state=0, max_iter > 1000 and n_init > 30. Compare the clustering results with the known class labels. (you can refer to sklearn - Clustering text documents using k-means for a basic work flow)\n",
    "\n",
    "\n",
    "(a) Given the clustering result and ground truth labels, contingency table A is the matrix whose entries Aij is the number of data points that belong to both the class Ci the cluster Kj .\n",
    "\n",
    "QUESTION 2: Report the contingency table of your clustering result."
   ]
  },
  {
   "cell_type": "code",
   "execution_count": 12,
   "metadata": {},
   "outputs": [
    {
     "name": "stdout",
     "output_type": "stream",
     "text": [
      "contingency table:\n",
      "[[1682 2297]\n",
      " [   3 3900]]\n"
     ]
    },
    {
     "data": {
      "text/plain": [
       "<Figure size 640x480 with 2 Axes>"
      ]
     },
     "metadata": {},
     "output_type": "display_data"
    }
   ],
   "source": [
    "from sklearn.cluster import KMeans\n",
    "from sklearn import metrics\n",
    "from sklearn.metrics import confusion_matrix\n",
    "import itertools\n",
    "import numpy as np\n",
    "import matplotlib.pyplot as plt\n",
    "\n",
    "# K-Means Clustering\n",
    "km = KMeans(n_clusters=2, n_init=30, max_iter=1000, random_state=0)\n",
    "km.fit(X)\n",
    "\n",
    "# transform confusion matrix to diagonal as much as possible (only for 2 * 2 sized confusion)\n",
    "def to_diagonal(confusion):\n",
    "    maxColIndices = []\n",
    "    copy = []\n",
    "    for row in range(len(confusion)):\n",
    "        curRow = confusion[row]\n",
    "        index = 0\n",
    "        value = curRow[0]\n",
    "        ro = []\n",
    "        for col in range(len(curRow)):\n",
    "            ro.append(curRow[col])\n",
    "            if curRow[col] > value:\n",
    "                index = col\n",
    "                value = curRow[col]\n",
    "        maxColIndices.append(index)\n",
    "        copy.append(ro)\n",
    "    res = []\n",
    "    for i in range(len(confusion)):\n",
    "        res.insert(maxColIndices[i], copy[i])\n",
    "    res = np.array(res)\n",
    "    return res\n",
    "\n",
    "# contingency table (confusion matrix)\n",
    "actual_class_names = ['Class 1', 'Class 2']\n",
    "cluster_class_names = ['Cluster 1', 'Cluster 2']\n",
    "def plot_contingency_table(cm, title='Contingency table', cmap=plt.cm.YlOrBr):\n",
    "    plt.imshow(cm, interpolation='nearest', cmap=cmap)\n",
    "    plt.title(title, fontsize=16)\n",
    "    plt.colorbar()\n",
    "    tick_marks = np.arange(len(actual_class_names))\n",
    "    plt.xticks(tick_marks, actual_class_names)\n",
    "    plt.yticks(tick_marks, cluster_class_names)\n",
    "\n",
    "    thresh = cm.max() / 2.\n",
    "    for i, j in itertools.product(range(cm.shape[0]), range(cm.shape[1])):\n",
    "        plt.text(j, i, cm[i, j],\n",
    "                 horizontalalignment=\"center\",\n",
    "                 color=\"white\" if cm[i, j] > thresh else \"black\")\n",
    "\n",
    "    plt.tight_layout()\n",
    "    plt.ylabel('Cluster Class', fontsize=12)\n",
    "    plt.xlabel('Actual Class', fontsize=12)\n",
    "\n",
    "# Print results\n",
    "confusion = metrics.confusion_matrix(labels, km.labels_)\n",
    "contingency = to_diagonal(confusion)\n",
    "\n",
    "print('contingency table:')\n",
    "print(contingency)\n",
    "# Plot non-normalized contingency table\n",
    "plt.figure()\n",
    "title = 'Contingency table (original)'\n",
    "plot_contingency_table(contingency, title=title)\n",
    "plt.show()"
   ]
  },
  {
   "cell_type": "code",
   "execution_count": null,
   "metadata": {},
   "outputs": [],
   "source": []
  }
 ],
 "metadata": {
  "kernelspec": {
   "display_name": "Python 3",
   "language": "python",
   "name": "python3"
  },
  "language_info": {
   "codemirror_mode": {
    "name": "ipython",
    "version": 3
   },
   "file_extension": ".py",
   "mimetype": "text/x-python",
   "name": "python",
   "nbconvert_exporter": "python",
   "pygments_lexer": "ipython3",
   "version": "3.7.1"
  }
 },
 "nbformat": 4,
 "nbformat_minor": 2
}
