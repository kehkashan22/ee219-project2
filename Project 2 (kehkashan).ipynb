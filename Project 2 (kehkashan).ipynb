{
 "cells": [
  {
   "cell_type": "markdown",
   "metadata": {},
   "source": [
    "1. Building the TF-IDF matrix.\n",
    "Following the steps in Project 1, transform the documents into TF-IDF vectors.\n",
    "Use min_df = 3, exclude the stopwords (no need to do stemming or lemmatization).\n",
    "QUESTION 1: Report the dimensions of the TF-IDF matrix you get."
   ]
  },
  {
   "cell_type": "code",
   "execution_count": 5,
   "metadata": {},
   "outputs": [],
   "source": [
    "from sklearn.datasets import fetch_20newsgroups\n",
    "import numpy as np\n",
    "np.random.seed(42)\n",
    "\n",
    "categories = ['comp.graphics', 'comp.os.ms-windows.misc',\n",
    "              'comp.sys.ibm.pc.hardware', 'comp.sys.mac.hardware',\n",
    "              'rec.autos', 'rec.motorcycles',\n",
    "              'rec.sport.baseball', 'rec.sport.hockey']\n",
    "dataset = fetch_20newsgroups(subset='all', categories=categories,\n",
    "shuffle=True, random_state=42)"
   ]
  },
  {
   "cell_type": "code",
   "execution_count": 6,
   "metadata": {},
   "outputs": [
    {
     "name": "stdout",
     "output_type": "stream",
     "text": [
      "(7882, 23135)\n"
     ]
    }
   ],
   "source": [
    "import re\n",
    "from sklearn.feature_extraction.text import TfidfVectorizer\n",
    "# seperate all data into two classes\n",
    "labels = [1]*len(dataset.data)\n",
    "for i in range(len(dataset.data)):\n",
    "    if dataset.target[i] > 3:\n",
    "        labels[i] = 0\n",
    "\n",
    "# process data\n",
    "def trim_data(data_list):\n",
    "    for i in range(len(data_list)):\n",
    "        temp = re.findall('[a-zA-Z]+', data_list[i])\n",
    "        ans = []\n",
    "        for j in range(len(temp)):\n",
    "            if not temp[j].isdigit():\n",
    "                ans.append(temp[j])           \n",
    "        data_list[i] = \" \".join(ans)\n",
    "        \n",
    "trim_data(dataset.data)\n",
    "\n",
    "# generate TF-IDF matrix\n",
    "vectorizer = TfidfVectorizer(min_df=3, stop_words='english', use_idf=True)\n",
    "X = vectorizer.fit_transform(dataset.data)\n",
    "print(X.shape)"
   ]
  },
  {
   "cell_type": "markdown",
   "metadata": {},
   "source": [
    "2. Apply K-means clustering with k = 2 using the TF-IDF data. Note that the KMeans class in sklearn has parameters named random_state, max_iter and n_init. Please use random_state=0, max_iter > 1000 and n_init > 30. Compare the clustering results with the known class labels. (you can refer to sklearn - Clustering text documents using k-means for a basic work flow)\n",
    "\n",
    "\n",
    "(a) Given the clustering result and ground truth labels, contingency table A is the matrix whose entries Aij is the number of data points that belong to both the class Ci the cluster Kj .\n",
    "\n",
    "QUESTION 2: Report the contingency table of your clustering result."
   ]
  },
  {
   "cell_type": "code",
   "execution_count": 18,
   "metadata": {},
   "outputs": [],
   "source": [
    "import matplotlib.pyplot as plt\n",
    "def plot_contingency_table(cm, title):\n",
    "    plt.imshow(cm, interpolation='nearest', cmap='GnBu')\n",
    "    plt.title(title, fontsize=16)\n",
    "    plt.colorbar()\n",
    "    tick_marks = np.arange(len(actual_class_names))\n",
    "    plt.xticks(tick_marks, actual_class_names)\n",
    "    plt.yticks(tick_marks, cluster_class_names)\n",
    "    \n",
    "    plt.ylabel('Cluster Class', fontsize=12)\n",
    "    plt.xlabel('Actual Class', fontsize=12)\n",
    "    \n",
    "    width, height = cm.shape\n",
    "    for x in range(width):\n",
    "        for y in range(height):\n",
    "            plt.annotate(str(cm[x][y]), xy=(y, x), \n",
    "                        horizontalalignment='center',\n",
    "                        verticalalignment='center')\n",
    "    plt.savefig(title+'.png')\n"
   ]
  },
  {
   "cell_type": "code",
   "execution_count": 19,
   "metadata": {},
   "outputs": [
    {
     "name": "stdout",
     "output_type": "stream",
     "text": [
      "contingency table:\n",
      "[[1682 2297]\n",
      " [   3 3900]]\n"
     ]
    },
    {
     "data": {
      "image/png": "[encoded data removed]",
      "text/plain": [
       "<Figure size 432x288 with 2 Axes>"
      ]
     },
     "metadata": {
      "needs_background": "light"
     },
     "output_type": "display_data"
    },
    {
     "name": "stdout",
     "output_type": "stream",
     "text": [
      "\n"
     ]
    }
   ],
   "source": [
    "from sklearn.cluster import KMeans\n",
    "from sklearn import metrics\n",
    "from sklearn.metrics import confusion_matrix\n",
    "import itertools\n",
    "import numpy as np\n",
    "import matplotlib.pyplot as plt\n",
    "from sklearn.metrics.cluster import contingency_matrix\n",
    "\n",
    "# K-Means Clustering\n",
    "km = KMeans(n_clusters=2, n_init=30, max_iter=1000, random_state=0)\n",
    "km.fit(X)\n",
    "\n",
    "# Print results\n",
    "contingency = contingency_matrix(labels, km.labels_)\n",
    "\n",
    "print('contingency table:')\n",
    "print(contingency)\n",
    "plt.figure()\n",
    "title = 'Contingency Table 2'\n",
    "plot_contingency_table(contingency, title)\n",
    "plt.show()\n",
    "print()"
   ]
  },
  {
   "cell_type": "markdown",
   "metadata": {},
   "source": [
    "b)In order to evaluate clustering results, there are various measures for a given partition of the data points with respect to the ground truth. We will use the measures homogeneity score, completeness score, V-measure, adjusted Rand score and adjusted mutual info score, all of which can be calculated by the corresponding functions provided in\n",
    "sklearn.metrics\n",
    "\n",
    "QUESTION 3:\n",
    "Report the 5 measures above for the K-means clustering results you get."
   ]
  },
  {
   "cell_type": "code",
   "execution_count": 15,
   "metadata": {},
   "outputs": [
    {
     "name": "stdout",
     "output_type": "stream",
     "text": [
      "Homogeneity: 0.2480861826246507\n",
      "Completeness: 0.3313589810284791\n",
      "V-measure: 0.28373896215987654\n",
      "Adjusted Rand Score: 0.17328640818785399\n",
      "Adjusted Mutual Info Score: 0.24801733618150645\n"
     ]
    },
    {
     "name": "stderr",
     "output_type": "stream",
     "text": [
      "C:\\ProgramData\\Anaconda3\\lib\\site-packages\\sklearn\\metrics\\cluster\\supervised.py:732: FutureWarning: The behavior of AMI will change in version 0.22. To match the behavior of 'v_measure_score', AMI will use average_method='arithmetic' by default.\n",
      "  FutureWarning)\n"
     ]
    }
   ],
   "source": [
    "print('Homogeneity:', metrics.homogeneity_score(labels, km.labels_))\n",
    "print('Completeness:', metrics.completeness_score(labels, km.labels_)) \n",
    "print('V-measure:', metrics.v_measure_score(labels, km.labels_)) \n",
    "print('Adjusted Rand Score:', metrics.adjusted_rand_score(labels, km.labels_)) \n",
    "print('Adjusted Mutual Info Score:', metrics.adjusted_mutual_info_score(labels, km.labels_)) "
   ]
  },
  {
   "cell_type": "code",
   "execution_count": null,
   "metadata": {},
   "outputs": [],
   "source": []
  }
 ],
 "metadata": {
  "kernelspec": {
   "display_name": "Python 3",
   "language": "python",
   "name": "python3"
  },
  "language_info": {
   "codemirror_mode": {
    "name": "ipython",
    "version": 3
   },
   "file_extension": ".py",
   "mimetype": "text/x-python",
   "name": "python",
   "nbconvert_exporter": "python",
   "pygments_lexer": "ipython3",
   "version": "3.7.1"
  }
 },
 "nbformat": 4,
 "nbformat_minor": 2
}
